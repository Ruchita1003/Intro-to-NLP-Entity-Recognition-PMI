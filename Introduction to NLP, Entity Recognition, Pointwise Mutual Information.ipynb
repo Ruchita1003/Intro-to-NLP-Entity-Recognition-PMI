{
 "cells": [
  {
   "cell_type": "markdown",
   "metadata": {},
   "source": [
    "# Introduction to NLP, Entity Recognition, Pointwise Mutual Information\n",
    "\n",
    "### Author: Ruchita Nagare"
   ]
  },
  {
   "cell_type": "markdown",
   "metadata": {},
   "source": [
    "### [Section 1] Basic Text Analysis\n",
    "\n",
    "This section involves a mix of Python review (loops, conditionals, counters/dictionaries, sorting) and learning to work with a sizable collection of text data.\n",
    "\n",
    "You will be looking at a phenomenon of \"natural languages\" (i.e., human languages, such as English) called *Zipf's law*, which relates how frequently a word occurs in a language to its \"rank\" (the word with rank 1 is the most frequently occurring word, the word with rank 2 is the second most frequently occurring word, etc). Roughly speaking, the word with rank 1 appears twice as likely as the word with rank 2, and the three times as likely as the word with rank 3, and so forth. (Some details on Zipf's law can be found on [Wikipedia](https://en.wikipedia.org/wiki/Zipf%27s_law).) In this problem, you are going to check whether Zipf's law holds for a real dataset of text documents.\n",
    "\n",
    "The dataset we look at is a collection of the 100 most popular books downloaded from the [Gutenburg Project](https://www.gutenberg.org/browse/scores/top). These 100 books form the corpus that we consider for this problem. Each file contains the text of a book. We will read in all 100 books.\n",
    "\n"
   ]
  },
  {
   "cell_type": "code",
   "execution_count": 30,
   "metadata": {},
   "outputs": [
    {
     "name": "stdout",
     "output_type": "stream",
     "text": [
      "./HW1_Dataset\\A Christmas Carol in Prose; Being a Ghost Story of Christmas by Charles Dickens (265).txt 177758\n",
      "./HW1_Dataset\\A History of Spanish Literature by James Fitzmaurice-Kelly (109).txt 765918\n",
      "./HW1_Dataset\\A Modest Proposal by Jonathan Swift (233).txt 38966\n",
      "./HW1_Dataset\\A Study in Scarlet by Arthur Conan Doyle (163).txt 262340\n",
      "./HW1_Dataset\\A Tale of Two Cities by Charles Dickens (425).txt 776702\n",
      "./HW1_Dataset\\Adventures of Huckleberry Finn by Mark Twain (401).txt 593962\n",
      "./HW1_Dataset\\Alice in Wonderland by Lewis Carroll and Alice Gerstenberg (126).txt 104079\n",
      "./HW1_Dataset\\Alice's Adventures in Wonderland by Lewis Carroll (564).txt 163817\n",
      "./HW1_Dataset\\Anne of Green Gables by L. M.  Montgomery (114).txt 580635\n",
      "./HW1_Dataset\\Autobiography of Benjamin Franklin by Benjamin Franklin (247).txt 458600\n",
      "./HW1_Dataset\\Beowulf An Anglo-Saxon Epic Poem (403).txt 292953\n",
      "./HW1_Dataset\\Beyond Good and Evil by Friedrich Wilhelm Nietzsche (120).txt 402273\n",
      "./HW1_Dataset\\Candide by Voltaire (180).txt 224924\n",
      "./HW1_Dataset\\Carmilla by Joseph Sheridan Le Fanu (135).txt 176408\n",
      "./HW1_Dataset\\Common Sense by Thomas Paine (297).txt 145353\n",
      "./HW1_Dataset\\Democracy in America ΓÇö Volume 1 by Alexis de Tocqueville (147).txt 1148435\n",
      "./HW1_Dataset\\Dracula by Bram Stoker (461).txt 867141\n",
      "./HW1_Dataset\\Dubliners by James Joyce (219).txt 389199\n",
      "./HW1_Dataset\\Emma by Jane Austen (166).txt 902390\n",
      "./HW1_Dataset\\Essays by Ralph Waldo Emerson by Ralph Waldo Emerson (239).txt 557197\n",
      "./HW1_Dataset\\Essays of Michel de Montaigne ΓÇö Complete by Michel de Montaigne (205).txt 3033575\n",
      "./HW1_Dataset\\Et dukkehjem. English by Henrik Ibsen (557).txt 161241\n",
      "./HW1_Dataset\\Frankenstein; Or, The Modern Prometheus by Mary Wollstonecraft Shelley (501).txt 441034\n",
      "./HW1_Dataset\\Great Expectations by Charles Dickens (293).txt 1013450\n",
      "./HW1_Dataset\\Grimms' Fairy Tales by Jacob Grimm and Wilhelm Grimm (429).txt 540241\n",
      "./HW1_Dataset\\Gulliver's Travels into Several Remote Nations of the World by Jonathan Swift (136).txt 600105\n",
      "./HW1_Dataset\\Heart of Darkness by Joseph Conrad (213).txt 229835\n",
      "./HW1_Dataset\\Hedda Gabler by Henrik Ibsen (123).txt 193875\n",
      "./HW1_Dataset\\Il Principe. English by Niccolo╠Ç Machiavelli (428) (Unicode Encoding Conflict).txt 300788\n",
      "./HW1_Dataset\\Jane Eyre_ An Autobiography by Charlotte Bronte╠ê (290) (Unicode Encoding Conflict).txt 1049267\n",
      "./HW1_Dataset\\Leaves of Grass by Walt Whitman (164).txt 757361\n",
      "./HW1_Dataset\\Les Mise╠ürables by Victor Hugo (165) (Unicode Encoding Conflict).txt 3254333\n",
      "./HW1_Dataset\\Leviathan by Thomas Hobbes (417).txt 1231784\n",
      "./HW1_Dataset\\Liberalism by L. T.  Hobhouse (119).txt 305345\n",
      "./HW1_Dataset\\Metamorphosis by Franz Kafka (483).txt 139056\n",
      "./HW1_Dataset\\Moby Dick; Or, The Whale by Herman Melville (413).txt 1238569\n",
      "./HW1_Dataset\\My Fifteen Lost Years by Florence Elizabeth Maybrick (499).txt 383694\n",
      "./HW1_Dataset\\My Secret Life, Volumes I. to III. by Anonymous (157).txt 1378627\n",
      "./HW1_Dataset\\Narrative of the Captivity and Restoration of Mrs. Mary Rowlandson by Mary White Rowlandson (222).txt 123784\n",
      "./HW1_Dataset\\Narrative of the Life of Frederick Douglass, an American Slave by Frederick Douglass (243).txt 244263\n",
      "./HW1_Dataset\\On Liberty by John Stuart Mill (116).txt 325922\n",
      "./HW1_Dataset\\Outpost in the Wilderness_ Fort Wayne, 1706-1828 by Charles Poinsatte (161).txt 363234\n",
      "./HW1_Dataset\\Persuasion by Jane Austen (2234).txt 486251\n",
      "./HW1_Dataset\\Peter Pan by J. M.  Barrie (274).txt 278194\n",
      "./HW1_Dataset\\Prestuplenie i nakazanie. English by Fyodor Dostoyevsky (160).txt 1154508\n",
      "./HW1_Dataset\\Pride and Prejudice by Jane Austen (1003).txt 704192\n",
      "./HW1_Dataset\\Robert Greene by Robert Greene (126).txt 760655\n",
      "./HW1_Dataset\\Semmering 1912 by Peter Altenberg (221).txt 264946\n",
      "./HW1_Dataset\\Sense and Sensibility by Jane Austen (177).txt 693095\n",
      "./HW1_Dataset\\Siddhartha by Hermann Hesse (216).txt 236855\n",
      "./HW1_Dataset\\Songs of Innocence, and Songs of Experience by William Blake (166).txt 51724\n",
      "./HW1_Dataset\\The Adventures of Sherlock Holmes by Arthur Conan Doyle (447).txt 581864\n",
      "./HW1_Dataset\\The Adventures of Tom Sawyer by Mark Twain (371).txt 412712\n",
      "./HW1_Dataset\\The Awakening, and Selected Short Stories by Kate Chopin (192).txt 378936\n",
      "./HW1_Dataset\\The Boy Fortune Hunters in China by L. Frank  Baum (215).txt 324452\n",
      "./HW1_Dataset\\The Boy Fortune Hunters in the South Seas by L. Frank  Baum (150).txt 266166\n",
      "./HW1_Dataset\\The Complete Works of William Shakespeare by William Shakespeare (132).txt 5465100\n",
      "./HW1_Dataset\\The Confessions of St. Augustine by Bishop of Hippo Saint Augustine (157).txt 622405\n",
      "./HW1_Dataset\\The Count of Monte Cristo, Illustrated by Alexandre Dumas (160).txt 2643849\n",
      "./HW1_Dataset\\The Divine Comedy by Dante, Illustrated by Dante Alighieri (119).txt 2161\n",
      "./HW1_Dataset\\The Faery Queen and Her Knights by Alfred John Church (177).txt 447320\n",
      "./HW1_Dataset\\The Federalist Papers by Alexander Hamilton and John Jay and James Madison (116).txt 1167141\n",
      "./HW1_Dataset\\The Guardsman by Homer Greene (175).txt 412900\n",
      "./HW1_Dataset\\The History of the Peloponnesian War by Thucydides (122).txt 1200021\n",
      "./HW1_Dataset\\The Hound of the Baskervilles by Arthur Conan Doyle (223).txt 339188\n",
      "./HW1_Dataset\\The Iliad by Homer (256).txt 1175588\n",
      "./HW1_Dataset\\The Importance of Being Earnest_ A Trivial Comedy for Serious People by Oscar Wilde (454).txt 138887\n",
      "./HW1_Dataset\\The Innocents Abroad by Mark Twain (108).txt 1126278\n",
      "./HW1_Dataset\\The Interesting Narrative of the Life of Olaudah Equiano, Or Gustavus Vassa, The African by Equiano (114).txt 471165\n",
      "./HW1_Dataset\\The Kama Sutra of Vatsyayana by Vatsyayana (172).txt 351664\n",
      "./HW1_Dataset\\The King James Version of the Bible (132).txt 4351846\n",
      "./HW1_Dataset\\The Law of Storms by John Wilson Ross (110).txt 65264\n",
      "./HW1_Dataset\\The Legend of Sleepy Hollow by Washington Irving (399).txt 89237\n",
      "./HW1_Dataset\\The Life and Adventures of Robinson Crusoe by Daniel Defoe (126).txt 642909\n",
      "./HW1_Dataset\\The Mysterious Affair at Styles by Agatha Christie (115).txt 340770\n",
      "./HW1_Dataset\\The Odyssey by Homer (124).txt 697404\n",
      "./HW1_Dataset\\The Peddler Spy by W. J. Hamilton (356).txt 197390\n",
      "./HW1_Dataset\\The Philosophy of Spiritual Activity by Rudolf Steiner (144).txt 545031\n",
      "./HW1_Dataset\\The Picture of Dorian Gray by Oscar Wilde (282).txt 453169\n",
      "./HW1_Dataset\\The Republic by Plato (246).txt 1214387\n",
      "./HW1_Dataset\\The Romance of Lust_ A Classic Victorian erotic novel by Anonymous (294).txt 1051148\n",
      "./HW1_Dataset\\The Scarlet Letter by Nathaniel Hawthorne (211).txt 506975\n",
      "./HW1_Dataset\\The Souls of Black Folk by W. E. B.  Du Bois (172).txt 421336\n",
      "./HW1_Dataset\\The Strange Case of Dr. Jekyll and Mr. Hyde by Robert Louis Stevenson (158).txt 158048\n",
      "./HW1_Dataset\\The Strange Case of Dr. Jekyll and Mr. Hyde by Robert Louis Stevenson (170).txt 159542\n",
      "./HW1_Dataset\\The Time Machine by H. G.  Wells (137).txt 198281\n",
      "./HW1_Dataset\\The Tragedy of Romeo and Juliet by William Shakespeare (131).txt 174128\n",
      "./HW1_Dataset\\The Tragical History of Doctor Faustus by Christopher Marlowe (144).txt 143736\n",
      "./HW1_Dataset\\The Turn of the Screw by Henry James (185).txt 248089\n",
      "./HW1_Dataset\\The Wendigo by Algernon Blackwood (174).txt 127464\n",
      "./HW1_Dataset\\The Wonderful Wizard of Oz by L. Frank  Baum (150).txt 227654\n",
      "./HW1_Dataset\\The Works of Edgar Allan Poe ΓÇö Volume 2 by Edgar Allan Poe (137).txt 569966\n",
      "./HW1_Dataset\\The Yellow Wallpaper by Charlotte Perkins Gilman (462).txt 50841\n",
      "./HW1_Dataset\\Through the Looking-Glass by Lewis Carroll (134).txt 181667\n",
      "./HW1_Dataset\\Treasure Island by Robert Louis Stevenson (236).txt 383675\n",
      "./HW1_Dataset\\Ulysses by James Joyce (282).txt 1534140\n",
      "./HW1_Dataset\\Uncle Tom's Cabin by Harriet Beecher Stowe (108).txt 1025501\n",
      "./HW1_Dataset\\Walden, and On The Duty Of Civil Disobedience by Henry David Thoreau (180).txt 656207\n",
      "./HW1_Dataset\\War and Peace by graf Leo Tolstoy (251).txt 3227580\n",
      "./HW1_Dataset\\Wuthering Heights by Emily Bronte╠ê (179) (Unicode Encoding Conflict).txt 669150\n"
     ]
    }
   ],
   "source": [
    "import glob\n",
    "\n",
    "\n",
    "for i in (glob.glob('./HW1_Dataset/*.txt')):\n",
    "    text = open(i, encoding='utf8').read()\n",
    "    print(i + \" \" + str(len(text)))"
   ]
  },
  {
   "cell_type": "markdown",
   "metadata": {},
   "source": [
    "Printing out the top 15 longest books "
   ]
  },
  {
   "cell_type": "code",
   "execution_count": 31,
   "metadata": {},
   "outputs": [
    {
     "name": "stdout",
     "output_type": "stream",
     "text": [
      "1 . 5465100 ./HW1_Dataset\\The Complete Works of William Shakespeare by William Shakespeare (132).txt\n",
      "2 . 4351846 ./HW1_Dataset\\The King James Version of the Bible (132).txt\n",
      "3 . 3254333 ./HW1_Dataset\\Les Mise╠ürables by Victor Hugo (165) (Unicode Encoding Conflict).txt\n",
      "4 . 3227580 ./HW1_Dataset\\War and Peace by graf Leo Tolstoy (251).txt\n",
      "5 . 3033575 ./HW1_Dataset\\Essays of Michel de Montaigne ΓÇö Complete by Michel de Montaigne (205).txt\n",
      "6 . 2643849 ./HW1_Dataset\\The Count of Monte Cristo, Illustrated by Alexandre Dumas (160).txt\n",
      "7 . 1534140 ./HW1_Dataset\\Ulysses by James Joyce (282).txt\n",
      "8 . 1378627 ./HW1_Dataset\\My Secret Life, Volumes I. to III. by Anonymous (157).txt\n",
      "9 . 1238569 ./HW1_Dataset\\Moby Dick; Or, The Whale by Herman Melville (413).txt\n",
      "10 . 1231784 ./HW1_Dataset\\Leviathan by Thomas Hobbes (417).txt\n",
      "11 . 1214387 ./HW1_Dataset\\The Republic by Plato (246).txt\n",
      "12 . 1200021 ./HW1_Dataset\\The History of the Peloponnesian War by Thucydides (122).txt\n",
      "13 . 1175588 ./HW1_Dataset\\The Iliad by Homer (256).txt\n",
      "14 . 1167141 ./HW1_Dataset\\The Federalist Papers by Alexander Hamilton and John Jay and James Madison (116).txt\n",
      "15 . 1154508 ./HW1_Dataset\\Prestuplenie i nakazanie. English by Fyodor Dostoyevsky (160).txt\n"
     ]
    }
   ],
   "source": [
    "from operator import itemgetter\n",
    "\n",
    "dict_temp = {}\n",
    "\n",
    "for i in (glob.glob('./HW1_Dataset/*.txt')):\n",
    "    text = open(i, encoding='utf8').read()\n",
    "    dict_temp[i] = len(text)\n",
    "\n",
    "sorted_dict_temp = sorted(dict_temp.items(),\n",
    "                                  reverse=True,\n",
    "                                  key=itemgetter(1))\n",
    "\n",
    "for idx, item in enumerate(sorted_dict_temp[:15], start =1):\n",
    "    print(idx, '.', str(item[1]), item[0])"
   ]
  },
  {
   "cell_type": "markdown",
   "metadata": {},
   "source": [
    "**Subpart iii.** You should find that some of the books are quite long. Processing very long books will be problematic with spaCy, so we will want to chop up long books into pieces. Note that later on in the course, we shall see that chopping up large amounts of data into small pieces or \"batches\" is in fact quite common in machine learning since for massive datasets, we often cannot store them in their entirety on a CPU or GPU for processing all at once."
   ]
  },
  {
   "cell_type": "code",
   "execution_count": 32,
   "metadata": {},
   "outputs": [
    {
     "name": "stdout",
     "output_type": "stream",
     "text": [
      "['cat dog shark', 'spam eggs']\n"
     ]
    }
   ],
   "source": [
    "import numpy as np\n",
    "\n",
    "def split_into_batches(book_text, max_num_words_per_batch):\n",
    "    words_split_on_spaces = book_text.split(' ')\n",
    "    num_book_pieces = int(np.ceil(len(words_split_on_spaces) / max_num_words_per_batch))\n",
    "    batches = []\n",
    "    for piece_idx in range(num_book_pieces):\n",
    "        start_idx = piece_idx * max_num_words_per_batch\n",
    "        end_idx = (piece_idx + 1) * max_num_words_per_batch\n",
    "        if end_idx > len(words_split_on_spaces):\n",
    "            end_idx = len(words_split_on_spaces)\n",
    "        book_piece = ' '.join(words_split_on_spaces[start_idx:end_idx])\n",
    "        batches.append(book_piece)\n",
    "    return batches\n",
    "\n",
    "print(split_into_batches('cat dog shark spam eggs', 3))"
   ]
  },
  {
   "cell_type": "code",
   "execution_count": 41,
   "metadata": {},
   "outputs": [
    {
     "name": "stdout",
     "output_type": "stream",
     "text": [
      "Total number of batches:  1246\n"
     ]
    }
   ],
   "source": [
    "total_batches = 0\n",
    "for i in (glob.glob('./HW1_Dataset/*.txt')):\n",
    "    text = open(i, encoding='utf8').read()\n",
    "    total_batches += len(split_into_batches(text, 10000))\n",
    "    \n",
    "print(\"Total number of batches: \" , total_batches)"
   ]
  },
  {
   "cell_type": "markdown",
   "metadata": {},
   "source": [
    "**(b)** Now we will finally use spaCy.\n",
    "\n",
    "Build a term frequency (raw counts) table that is for all 100 books. \n",
    "\n",
    "  1. Split it up into batches where each batch has at most 10000 words.\n",
    "  2. For each batch:\n",
    "    1. Process the batch by separating and lemmatizing the words\n",
    "    2. Count the number of times each lemma appears and add these to the frequency table. For simplicity, **do not convert lemmas to lowercase**. (Note that we use raw counts as the \"frequency\"--do not do any division.) Also, as we explain below, we will only count lemmas that are alphanumeric.\n",
    "\n",
    "\n",
    "After looping through all 100 books, you should have the term frequency table for the entire corpus (importantly, the frequency table should not just be for a single book; it should be for all 100 books). Sort the table and print the top 50 most frequent words, along with their frequencies and ranks. "
   ]
  },
  {
   "cell_type": "code",
   "execution_count": 6,
   "metadata": {},
   "outputs": [
    {
     "data": {
      "application/vnd.jupyter.widget-view+json": {
       "model_id": "047d044152ce4326a35fcb274cb04b02",
       "version_major": 2,
       "version_minor": 0
      },
      "text/plain": [
       "  0%|          | 0/100 [00:00<?, ?it/s]"
      ]
     },
     "metadata": {},
     "output_type": "display_data"
    },
    {
     "name": "stdout",
     "output_type": "stream",
     "text": [
      "Rank  1 - the : 702301\n",
      "Rank  2 - be : 436045\n",
      "Rank  3 - and : 435432\n",
      "Rank  4 - of : 386343\n",
      "Rank  5 - to : 324345\n",
      "Rank  6 - I : 254952\n",
      "Rank  7 - a : 232719\n",
      "Rank  8 - in : 204234\n",
      "Rank  9 - he : 193507\n",
      "Rank  10 - that : 158935\n",
      "Rank  11 - have : 158148\n",
      "Rank  12 - it : 135414\n",
      "Rank  13 - not : 112312\n",
      "Rank  14 - his : 108537\n",
      "Rank  15 - you : 105094\n",
      "Rank  16 - with : 101226\n",
      "Rank  17 - they : 96202\n",
      "Rank  18 - for : 95261\n",
      "Rank  19 - as : 90714\n",
      "Rank  20 - she : 78940\n",
      "Rank  21 - but : 75598\n",
      "Rank  22 - my : 74019\n",
      "Rank  23 - do : 68716\n",
      "Rank  24 - at : 64947\n",
      "Rank  25 - on : 62798\n",
      "Rank  26 - this : 61222\n",
      "Rank  27 - by : 61168\n",
      "Rank  28 - we : 60268\n",
      "Rank  29 - which : 58727\n",
      "Rank  30 - all : 58724\n",
      "Rank  31 - say : 58281\n",
      "Rank  32 - from : 50095\n",
      "Rank  33 - so : 47925\n",
      "Rank  34 - or : 47806\n",
      "Rank  35 - her : 42440\n",
      "Rank  36 - one : 41089\n",
      "Rank  37 - man : 39734\n",
      "Rank  38 - no : 38422\n",
      "Rank  39 - their : 38393\n",
      "Rank  40 - what : 37759\n",
      "Rank  41 - there : 37187\n",
      "Rank  42 - will : 36737\n",
      "Rank  43 - if : 34897\n",
      "Rank  44 - go : 33666\n",
      "Rank  45 - when : 33587\n",
      "Rank  46 - an : 32483\n",
      "Rank  47 - come : 32032\n",
      "Rank  48 - see : 31994\n",
      "Rank  49 - would : 31287\n",
      "Rank  50 - who : 30929\n"
     ]
    }
   ],
   "source": [
    "import spacy\n",
    "import re\n",
    "nlp = spacy.load('en_core_web_sm', disable=['ner', 'parser'])\n",
    "from collections import Counter\n",
    "from tqdm.notebook import tqdm_noteboo\n",
    "k\n",
    "histogram = Counter()\n",
    "\n",
    "for i in tqdm_notebook(glob.glob('./HW1_Dataset/*.txt')):\n",
    "    text = open(i, encoding='utf8').read()\n",
    "    one_book_batches = split_into_batches(text, 10000)\n",
    "    for each_batch in one_book_batches:\n",
    "        processed_batches = nlp(each_batch)\n",
    "        for token in processed_batches:\n",
    "            lemma = token.lemma_\n",
    "            if re.match('[a-zA-Z0-9]+$', lemma):\n",
    "                histogram[lemma] += 1\n",
    "        \n",
    "   \n",
    "sorted_lemma_count_pairs = histogram.most_common()\n",
    "idx = 1\n",
    "for lemma, count in sorted_lemma_count_pairs[:50]:\n",
    "    print(\"Rank \", idx , \"-\", lemma, \":\", count)\n",
    "    idx+=1\n",
    "    \n",
    "  "
   ]
  },
  {
   "cell_type": "markdown",
   "metadata": {},
   "source": [
    "**(c)** Visualize the frequency table by plotting a **raw scatter plot** (put frequency as the y-axis and rank as the x-axis), and a **log-log plot** (use logarithmic scales on both the x- and y- axes). Note that this should be for all words and not only the top 50. As before, for the ranks, do not worry about ties, i.e., break ties arbitrarily."
   ]
  },
  {
   "cell_type": "code",
   "execution_count": 34,
   "metadata": {},
   "outputs": [
    {
     "data": {
      "image/png": "[encoded data removed]",
      "text/plain": [
       "<Figure size 576x396 with 1 Axes>"
      ]
     },
     "metadata": {},
     "output_type": "display_data"
    }
   ],
   "source": [
    "# Raw scatter plot\n",
    "\n",
    "%matplotlib inline\n",
    "import matplotlib.pyplot as plt\n",
    "plt.style.use('seaborn')\n",
    "\n",
    "lemmas = [lemma for lemma, count in sorted_lemma_count_pairs]\n",
    "total_ranks = len(lemmas)\n",
    "counts = [count for lemma, count in sorted_lemma_count_pairs]\n",
    "plt.scatter(range(total_ranks), counts)\n",
    "# #plt.xticks(0,total_ranks, 3000)\n",
    "# plt.xlim(0,1000)\n",
    "# plt.xticks(range(0, total_ranks, 20000), )\n",
    "# plt.yticks(range(0,counts, 20000))\n",
    "plt.xlabel('Rank')\n",
    "plt.ylabel('Raw count')\n",
    "plt.show()"
   ]
  },
  {
   "cell_type": "code",
   "execution_count": 35,
   "metadata": {},
   "outputs": [
    {
     "data": {
      "image/png": "[encoded data removed]",
      "text/plain": [
       "<Figure size 576x396 with 1 Axes>"
      ]
     },
     "metadata": {},
     "output_type": "display_data"
    }
   ],
   "source": [
    "# Log-log plot\n",
    "\n",
    "%matplotlib inline\n",
    "import matplotlib.pyplot as plt\n",
    "plt.style.use('seaborn')\n",
    "\n",
    "lemmas = [lemma for lemma, count in sorted_lemma_count_pairs]\n",
    "total_ranks = np.log(range(1, len(lemmas)+1))\n",
    "counts_log = np.log([count for lemma, count in sorted_lemma_count_pairs])\n",
    "plt.scatter(total_ranks, counts_log)\n",
    "# #plt.xticks(0,total_ranks, 3000)\n",
    "# plt.xlim(0,1000)\n",
    "# plt.xticks(range(0, total_ranks, 20000), )\n",
    "# plt.yticks(range(0,counts, 20000))\n",
    "plt.xlabel('Rank')\n",
    "plt.ylabel('Term Frequency')\n",
    "plt.show()"
   ]
  },
  {
   "cell_type": "markdown",
   "metadata": {},
   "source": [
    "Zipf's law states that term frequency is governed by a power law, i.e. the relationship between term frequency and rank can be approximated by $f(r) = cr^{-1}$, where $f(r)$ is the frequency of the term at rank $r$, $r$ is the rank of a term, and $c$ is a constant that is approximately 0.1*(corpus size) for English."
   ]
  },
  {
   "cell_type": "markdown",
   "metadata": {},
   "source": [
    "\n",
    "***By simply looking at the above log-log plot we can infer that as the rank increases, the term frequency of the corresponding rank decreases. Furthermore, we can see that the term frequency and rank are inversely proportional, and in alignment with the power law which defines the realtionship between term frequency and rank approximately as 𝑓(𝑟)=𝑐𝑟−1 , where 𝑓(𝑟). The term frequency drecreases in a proportion(approximately by a constant c).***\n",
    "\n",
    "***Thus,the above log-log plot is consistent witht the power law.***"
   ]
  },
  {
   "cell_type": "markdown",
   "metadata": {},
   "source": [
    "**Subpart ii.** Think of the corpus as a (large) unigram bag of words. Following the analogy from lecture, imagine drawing a single word from this big bag (note that we are assuming that we've lemmatized the words and also filtered out non-alphanumeric words; thus what remains in the bag are actually alphanumeric lemmas). Lets see what is the probability of drawing one of the 4 most frequent alphanumeric lemmas? What is the probability of drawing one of the 50 most frequent alphanumeric lemmas?"
   ]
  },
  {
   "cell_type": "code",
   "execution_count": 36,
   "metadata": {},
   "outputs": [
    {
     "name": "stdout",
     "output_type": "stream",
     "text": [
      "Probability of drawing one of the 4 most frequent alphanumeric lemmas: \n",
      "0.16191255494051857\n",
      "Probability of drawing one of the 50 most frequent alphanumeric lemmas: \n",
      "0.4818741410800735\n"
     ]
    }
   ],
   "source": [
    "print('Probability of drawing one of the 4 most frequent alphanumeric lemmas: ')\n",
    "print(sum([count for lemma,count in sorted_lemma_count_pairs[:4]])/(sum([count for lemma,count in sorted_lemma_count_pairs])))\n",
    "\n",
    "print('Probability of drawing one of the 50 most frequent alphanumeric lemmas: ')\n",
    "print(sum([count for lemma,count in sorted_lemma_count_pairs[:50]])/(sum([count for lemma,count in sorted_lemma_count_pairs])))"
   ]
  },
  {
   "cell_type": "markdown",
   "metadata": {},
   "source": [
    "**Subpart iii** What proportion of the alphanumeric lemmas occur only once? What proportion of the alphanumeric lemmas occur fewer than 10 times?"
   ]
  },
  {
   "cell_type": "code",
   "execution_count": 37,
   "metadata": {
    "scrolled": true
   },
   "outputs": [
    {
     "name": "stdout",
     "output_type": "stream",
     "text": [
      "Occur only once: \n",
      "0.44721756768674487\n",
      "Occur fewer than 10 times: \n",
      "0.7822647499779521\n"
     ]
    }
   ],
   "source": [
    "print(\"Occur only once: \")\n",
    "only_once = [count for lemma, count in sorted_lemma_count_pairs if count ==1]\n",
    "print(len(only_once)/len(counts))\n",
    "\n",
    "print(\"Occur fewer than 10 times: \")\n",
    "fewer_than_10 = [count for lemma, count in sorted_lemma_count_pairs if count < 10]\n",
    "print(len(fewer_than_10)/len(counts))"
   ]
  },
  {
   "cell_type": "markdown",
   "metadata": {},
   "source": [
    "### [Section 2] Entity Recognition and Pointwise Mutual Information (PMI)\n",
    "By using the entity recognition system in `spaCy`, let's identify named entities from newspaper articles. You'll be using Reuters corpus which contains more than ten thousand newspaper articles. To run the code below, you need to download the Reuters dataset. To do so, in a terminal/command line (recall that you can open a terminal from Jupyter's webpage that shows all the files, which by default is [http://localhost:8888/tree](http://localhost:8888/tree)), start up Python and enter:\n",
    "\n",
    "```python\n",
    "import nltk\n",
    "nltk.download('reuters')\n",
    "```"
   ]
  },
  {
   "cell_type": "markdown",
   "metadata": {},
   "source": [
    "**(a)** Draw a bar chart in which one of the axes shows entity labels and the other shows the frequency of the corresponding label."
   ]
  },
  {
   "cell_type": "code",
   "execution_count": 38,
   "metadata": {
    "scrolled": false
   },
   "outputs": [
    {
     "name": "stdout",
     "output_type": "stream",
     "text": [
      "Counter({'CARDINAL': 58101, 'ORG': 45214, 'DATE': 36109, 'GPE': 21289, 'PERSON': 11472, 'QUANTITY': 7328, 'NORP': 6224, 'MONEY': 4964, 'LOC': 1570, 'ORDINAL': 1097, 'TIME': 989, 'PRODUCT': 641, 'LAW': 426, 'FAC': 333, 'WORK_OF_ART': 266, 'EVENT': 256, 'PERCENT': 84, 'LANGUAGE': 17})\n"
     ]
    },
    {
     "data": {
      "image/png": "[encoded data removed]",
      "text/plain": [
       "<Figure size 576x396 with 1 Axes>"
      ]
     },
     "metadata": {},
     "output_type": "display_data"
    }
   ],
   "source": [
    "import matplotlib.pyplot as plt\n",
    "from collections import Counter\n",
    "from nltk.corpus import reuters\n",
    "import re\n",
    "import spacy\n",
    "nlp = spacy.load('en_core_web_sm', disable=['parser'])\n",
    "reuters_fileids = reuters.fileids() \n",
    "reuters_nlp = [nlp(re.sub('\\s+',' ', reuters.raw(i)).strip()) for i in reuters_fileids]\n",
    "label_counter = Counter()\n",
    "\n",
    "\n",
    "for article in reuters_nlp:\n",
    "    for entity in article.ents:\n",
    "        label_counter[entity.label_] += 1\n",
    "\n",
    "print(label_counter)\n",
    "        \n",
    "x = label_counter.keys()\n",
    "y = label_counter.values()\n",
    "\n",
    "plt.bar(x, y)\n",
    "plt.xticks(rotation = 90)\n",
    "plt.show()"
   ]
  },
  {
   "cell_type": "markdown",
   "metadata": {},
   "source": [
    "**(b)** Now list the top 10 most frequently occurring entities (entity text and the number of occurence) with label `ORG` (organization). Separately list the top 10 most frequently occurring entities with label `GPE` (geopolitical entity such as countries, cities, states) respectively. \n",
    "\n",
    "Here, when counting the (raw count) frequency, we need to count how many articles have an entity with the desired property. For every article, we add 1 if the article has the entity and 0 otherwise."
   ]
  },
  {
   "cell_type": "code",
   "execution_count": 39,
   "metadata": {},
   "outputs": [
    {
     "data": {
      "application/vnd.jupyter.widget-view+json": {
       "model_id": "ca470493f15e41af8b82237d522c291e",
       "version_major": 2,
       "version_minor": 0
      },
      "text/plain": [
       "  0%|          | 0/10788 [00:00<?, ?it/s]"
      ]
     },
     "metadata": {},
     "output_type": "display_data"
    },
    {
     "name": "stdout",
     "output_type": "stream",
     "text": [
      "Top 10 most frequently occurring entities with label ORG: \n",
      "\n",
      "reuters : 447\n",
      "the securities and exchange commission : 249\n",
      "ec : 237\n",
      "treasury : 222\n",
      "fed : 209\n",
      "usda : 181\n",
      "the u.s. agriculture department : 168\n",
      "the bank of england : 142\n",
      "congress : 136\n",
      "opec : 125\n"
     ]
    },
    {
     "data": {
      "application/vnd.jupyter.widget-view+json": {
       "model_id": "38200e29cf1948e8bfcddf29091a4771",
       "version_major": 2,
       "version_minor": 0
      },
      "text/plain": [
       "  0%|          | 0/10788 [00:00<?, ?it/s]"
      ]
     },
     "metadata": {},
     "output_type": "display_data"
    },
    {
     "name": "stdout",
     "output_type": "stream",
     "text": [
      "Top 10 most frequently occurring entities with label GPE: \n",
      "\n",
      "u.s. : 1674\n",
      "japan : 575\n",
      "the united states : 381\n",
      "u.k. : 305\n",
      "canada : 304\n",
      "new york : 256\n",
      "west germany : 237\n",
      "washington : 233\n",
      "london : 211\n",
      "brazil : 195\n"
     ]
    }
   ],
   "source": [
    "\n",
    "all_articles_unique_orgs = set([entity.orth_.lower() for article in reuters_nlp for entity in article.ents if entity.label_ == 'ORG'])\n",
    "all_articles_unique_gpes = set([entity.orth_.lower() for article in reuters_nlp for entity in article.ents if entity.label_ == 'GPE'])\n",
    "\n",
    "orgs_counter = Counter()\n",
    "\n",
    "for article in tqdm_notebook(reuters_nlp):\n",
    "    one_article_unique_orgs_counter = Counter()\n",
    "    for entity in article.ents:\n",
    "        if entity.label_ == 'ORG':\n",
    "            one_article_unique_orgs_counter[entity.orth_.lower()] += 1\n",
    "        else:\n",
    "            continue\n",
    "    one_article_unique_orgs = list(one_article_unique_orgs_counter.keys())\n",
    "    for one_article_org in one_article_unique_orgs:\n",
    "        if one_article_org in all_articles_unique_orgs:\n",
    "            orgs_counter[one_article_org]+=1\n",
    "            \n",
    "print(\"Top 10 most frequently occurring entities with label ORG: \\n\")\n",
    "for x,y in orgs_counter.most_common(10):\n",
    "    print(x,':', y)\n",
    "         \n",
    "gpes_counter = Counter()\n",
    "\n",
    "for article in tqdm_notebook(reuters_nlp):\n",
    "    one_article_unique_gpes_counter = Counter()\n",
    "    for entity in article.ents:\n",
    "        if entity.label_ == 'GPE':\n",
    "            one_article_unique_gpes_counter[entity.orth_.lower()] += 1\n",
    "        else:\n",
    "            continue\n",
    "    one_article_unique_gpes = list(one_article_unique_gpes_counter.keys())\n",
    "    for one_article_gpe in one_article_unique_gpes:\n",
    "        if one_article_gpe in all_articles_unique_gpes:\n",
    "            gpes_counter[one_article_gpe]+=1\n",
    "            \n",
    "print(\"Top 10 most frequently occurring entities with label GPE: \\n\")\n",
    "for x,y in gpes_counter.most_common(10):\n",
    "    print(x,':', y)"
   ]
  },
  {
   "cell_type": "markdown",
   "metadata": {},
   "source": [
    "**(c)** Give the top 50 `GPE` (countries, cities, states) entities that have the highest Pointwise Mutual Information (PMI) values with regard to the `ORG` (organization) entity **'opec'** (your list of this top 50 should be ranked in decreasing PMI value). Did you find any unexpected results? If so, why do you think it happened? If you found some of the results to be unsurprisingly, how come?"
   ]
  },
  {
   "cell_type": "code",
   "execution_count": 40,
   "metadata": {},
   "outputs": [
    {
     "data": {
      "application/vnd.jupyter.widget-view+json": {
       "model_id": "f95d3c650fe54e88a82dc6840f419d6e",
       "version_major": 2,
       "version_minor": 0
      },
      "text/plain": [
       "  0%|          | 0/10788 [00:00<?, ?it/s]"
      ]
     },
     "metadata": {},
     "output_type": "display_data"
    },
    {
     "name": "stdout",
     "output_type": "stream",
     "text": [
      "1 lajous : 6.431355521573517\n",
      "2 duri : 6.431355521573517\n",
      "3 petromin : 6.431355521573517\n",
      "4 september norway's : 6.431355521573517\n",
      "5 turben : 6.431355521573517\n",
      "6 emirates : 6.431355521573517\n",
      "7 the lake charles : 6.431355521573517\n",
      "8 bethesda : 6.431355521573517\n",
      "9 east room : 6.431355521573517\n",
      "10 rosenberg : 6.431355521573517\n",
      "11 gabon : 6.431355521573517\n",
      "12 opecna : 6.431355521573517\n",
      "13 venezuela\"s : 6.431355521573517\n",
      "14 el salado : 6.431355521573517\n",
      "15 yanbu : 6.431355521573517\n",
      "16 jubail : 6.431355521573517\n",
      "17 napo : 6.431355521573517\n",
      "18 napo province : 6.431355521573517\n",
      "19 tripoli : 6.431355521573517\n",
      "20 saudi arabia's king : 6.431355521573517\n",
      "21 doha : 6.431355521573517\n",
      "22 guayaquil : 6.431355521573517\n",
      "23 neutral zone : 6.431355521573517\n",
      "24 redoglia : 6.431355521573517\n",
      "25 suharto : 6.431355521573517\n",
      "26 materialy : 6.431355521573517\n",
      "27 hartley : 6.431355521573517\n",
      "28 vienna : 6.196890267936493\n",
      "29 riyadh : 6.109427426686154\n",
      "30 saudi arabia's : 5.890787140210814\n",
      "31 quito : 5.846393020852361\n",
      "32 balao : 5.753283616460879\n",
      "33 qatar : 5.637806399040943\n",
      "34 dubai : 5.624000599515912\n",
      "35 caracas : 5.583358615018566\n",
      "36 libya : 5.431355521573517\n",
      "37 kahan : 5.431355521573517\n",
      "38 pertamina : 5.431355521573517\n",
      "39 oseberg : 5.431355521573517\n",
      "40 dunham : 5.431355521573517\n",
      "41 new york harbor : 5.431355521573517\n",
      "42 ecuador : 5.378888101679381\n",
      "43 nigeria : 5.343892680323177\n",
      "44 saudi arabia : 5.223247326243317\n",
      "45 kuwait : 5.141848904378532\n",
      "46 venezuela : 5.046691671338192\n",
      "47 the united arab emirates : 5.032806145083241\n",
      "48 la : 4.846393020852361\n",
      "49 antwerp : 4.846393020852361\n",
      "50 jakarta : 4.846393020852361\n"
     ]
    }
   ],
   "source": [
    "np.seterr(divide='ignore')\n",
    "#probability of opec\n",
    "prob_opec = (orgs_counter['opec']/len(reuters_nlp))\n",
    "\n",
    "#probability of each gpe entity occuring independently\n",
    "prob_gpe_dict = {}\n",
    "\n",
    "for gpe_x in gpes_counter:\n",
    "    prob_gpe_x = (gpes_counter[gpe_x]/len(reuters_nlp))\n",
    "    prob_gpe_dict[gpe_x] = prob_gpe_x\n",
    "    \n",
    "#probability of a gpe and opec occuring together\n",
    "both_dict = Counter()\n",
    "prob_both = {}\n",
    "\n",
    "for article in tqdm_notebook(reuters_nlp):\n",
    "    each_article_unique_gpe = set([entity.orth_.lower() for entity in article.ents if entity.label_ == 'GPE'])\n",
    "    each_article_unique_org = set([entity.orth_.lower() for entity in article.ents if entity.label_ == 'ORG'])\n",
    "    for gpe in gpes_counter.keys():\n",
    "        if (gpe in each_article_unique_gpe) and ('opec' in each_article_unique_org):\n",
    "            both_dict[gpe]+=1\n",
    "            \n",
    "for each_pair in both_dict.keys():\n",
    "    prob_both[each_pair] = (both_dict[each_pair]/len(reuters_nlp))\n",
    "  \n",
    "\n",
    "for x in gpes_counter.keys():\n",
    "    if x not in prob_both.keys():\n",
    "        prob_both[x] = 0\n",
    "        \n",
    "\n",
    "#calculating approximate pmi\n",
    "pmi_dict = {}\n",
    "\n",
    "#displaying just the rank\n",
    "for gpe in prob_gpe_dict:\n",
    "    pmi_dict[gpe] = np.log2(prob_both[gpe]/(prob_gpe_dict[gpe]*prob_opec))    \n",
    "final_list = sorted(pmi_dict.items(), key = lambda x: x[1], reverse = True)\n",
    "for idx,x in enumerate(range(50), start =1):\n",
    "    print(idx, final_list[x][0], ':', final_list[x][1])"
   ]
  },
  {
   "cell_type": "markdown",
   "metadata": {},
   "source": [
    "### Some inferences:\n",
    "\n",
    "- The top 50 GPE entities co-occuring with 'opec' ORG are mostly middle eastern locations or locations that are sources of oil/petroleum. \n",
    "- OPEC stands for Organization of the Petroleum Exporting Countries and thus the above mentioned GPEs are bound to co-occur with opec entity.\n",
    "- We can also notice that Vienna is also on this list which is the headquaters of OPEC.\n",
    "- This tells us that the locations mentioned above do co-occur with opec for valid and unsurprising reasons.\n",
    "\n",
    "- It can also be noticed that the top 10 most frequently occurring entities with label GPE across all the articles do not quite co-occur with opec. \n",
    "- The GPEs that co-occur with opec do not occur very frequently accross all the articles.\n",
    "- Thus we can say that the above mentioned entities with lable GPE are more likely to occur with opec entity than ocurring independently."
   ]
  }
 ],
 "metadata": {
  "anaconda-cloud": {},
  "kernelspec": {
   "display_name": "Python 3 (ipykernel)",
   "language": "python",
   "name": "python3"
  },
  "language_info": {
   "codemirror_mode": {
    "name": "ipython",
    "version": 3
   },
   "file_extension": ".py",
   "mimetype": "text/x-python",
   "name": "python",
   "nbconvert_exporter": "python",
   "pygments_lexer": "ipython3",
   "version": "3.9.13"
  }
 },
 "nbformat": 4,
 "nbformat_minor": 2
}
